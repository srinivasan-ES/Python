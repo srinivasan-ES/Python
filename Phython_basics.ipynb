{
  "nbformat": 4,
  "nbformat_minor": 0,
  "metadata": {
    "colab": {
      "provenance": [],
      "authorship_tag": "ABX9TyPjeIcohqQczvIDE9dHb7G8",
      "include_colab_link": true
    },
    "kernelspec": {
      "name": "python3",
      "display_name": "Python 3"
    },
    "language_info": {
      "name": "python"
    }
  },
  "cells": [
    {
      "cell_type": "markdown",
      "metadata": {
        "id": "view-in-github",
        "colab_type": "text"
      },
      "source": [
        "<a href=\"https://colab.research.google.com/github/srinivasan-ES/Python/blob/main/Phython_basics.ipynb\" target=\"_parent\"><img src=\"https://colab.research.google.com/assets/colab-badge.svg\" alt=\"Open In Colab\"/></a>"
      ]
    },
    {
      "cell_type": "code",
      "execution_count": 1,
      "metadata": {
        "colab": {
          "base_uri": "https://localhost:8080/"
        },
        "id": "cfl1rDCeCFUR",
        "outputId": "27f971d6-792d-4618-9824-68b40d42cc29"
      },
      "outputs": [
        {
          "output_type": "stream",
          "name": "stdout",
          "text": [
            "new Language Learning Beginning\n"
          ]
        }
      ],
      "source": [
        "print(\"new Language Learning Beginning\")"
      ]
    },
    {
      "cell_type": "code",
      "source": [
        "x =10;\n",
        "print(x)\n",
        "type(x)"
      ],
      "metadata": {
        "colab": {
          "base_uri": "https://localhost:8080/"
        },
        "id": "3lDUWrOACfma",
        "outputId": "d3a19b9f-4aba-4bc5-b85f-e8e44e36f059"
      },
      "execution_count": 2,
      "outputs": [
        {
          "output_type": "stream",
          "name": "stdout",
          "text": [
            "10\n"
          ]
        },
        {
          "output_type": "execute_result",
          "data": {
            "text/plain": [
              "int"
            ]
          },
          "metadata": {},
          "execution_count": 2
        }
      ]
    },
    {
      "cell_type": "code",
      "source": [
        "y = 0X01\n",
        "print(y)\n",
        "type(y)"
      ],
      "metadata": {
        "colab": {
          "base_uri": "https://localhost:8080/"
        },
        "id": "uYzYciSwCm02",
        "outputId": "e251cfc5-ba74-4523-f828-60910d9d6656"
      },
      "execution_count": 5,
      "outputs": [
        {
          "output_type": "stream",
          "name": "stdout",
          "text": [
            "1\n"
          ]
        },
        {
          "output_type": "execute_result",
          "data": {
            "text/plain": [
              "int"
            ]
          },
          "metadata": {},
          "execution_count": 5
        }
      ]
    },
    {
      "cell_type": "code",
      "source": [
        "bin(x)\n",
        "hex(x)\n",
        "oct(x)"
      ],
      "metadata": {
        "colab": {
          "base_uri": "https://localhost:8080/",
          "height": 36
        },
        "id": "d2A2F_dpCrwU",
        "outputId": "d480c5c0-c9f2-4b1d-c149-ceb52482c91e"
      },
      "execution_count": 10,
      "outputs": [
        {
          "output_type": "execute_result",
          "data": {
            "text/plain": [
              "'0o1'"
            ],
            "application/vnd.google.colaboratory.intrinsic+json": {
              "type": "string"
            }
          },
          "metadata": {},
          "execution_count": 10
        }
      ]
    },
    {
      "cell_type": "code",
      "source": [
        "z =True\n",
        "print(z)\n",
        "type(z)"
      ],
      "metadata": {
        "colab": {
          "base_uri": "https://localhost:8080/"
        },
        "id": "xszPcTZ7DAzl",
        "outputId": "d6d5c289-f726-4a0d-f165-cc9940f99e77"
      },
      "execution_count": 12,
      "outputs": [
        {
          "output_type": "stream",
          "name": "stdout",
          "text": [
            "True\n"
          ]
        },
        {
          "output_type": "execute_result",
          "data": {
            "text/plain": [
              "bool"
            ]
          },
          "metadata": {},
          "execution_count": 12
        }
      ]
    },
    {
      "cell_type": "code",
      "source": [
        "str = 'I am srini'\n",
        "print(str)\n",
        "type(str)"
      ],
      "metadata": {
        "colab": {
          "base_uri": "https://localhost:8080/"
        },
        "id": "VtoF31ItDQMf",
        "outputId": "25e40e53-10b9-4c3c-b084-3f283e0e7fb1"
      },
      "execution_count": 14,
      "outputs": [
        {
          "output_type": "stream",
          "name": "stdout",
          "text": [
            "I am srini\n"
          ]
        },
        {
          "output_type": "execute_result",
          "data": {
            "text/plain": [
              "str"
            ]
          },
          "metadata": {},
          "execution_count": 14
        }
      ]
    },
    {
      "cell_type": "code",
      "source": [
        "str1 = \"\"\"This is new language language\n",
        "begininng\"\"\"\n",
        "print(str1)\n",
        "type(str1)"
      ],
      "metadata": {
        "colab": {
          "base_uri": "https://localhost:8080/"
        },
        "id": "hNrbTdlDDS2G",
        "outputId": "686019b0-b431-4f4d-ecc3-2f176cde570d"
      },
      "execution_count": 15,
      "outputs": [
        {
          "output_type": "stream",
          "name": "stdout",
          "text": [
            "This is new language language \n",
            "begininng\n"
          ]
        },
        {
          "output_type": "execute_result",
          "data": {
            "text/plain": [
              "str"
            ]
          },
          "metadata": {},
          "execution_count": 15
        }
      ]
    },
    {
      "cell_type": "code",
      "source": [
        "print(str[0])\n",
        "print(str[:40])\n",
        "print(str[:])\n",
        "print(str[:-1])\n",
        "print(str*3)\n",
        "print(len(str))\n",
        "char = 'a'\n",
        "print(char)\n",
        "type(char)"
      ],
      "metadata": {
        "colab": {
          "base_uri": "https://localhost:8080/"
        },
        "id": "femcfRqSEaRs",
        "outputId": "920cad89-093e-450e-afac-cfd60500aa3e"
      },
      "execution_count": 27,
      "outputs": [
        {
          "output_type": "stream",
          "name": "stdout",
          "text": [
            "I\n",
            "I am srini\n",
            "I am srini\n",
            "I am srin\n",
            "I am sriniI am sriniI am srini\n",
            "10\n",
            "a\n"
          ]
        },
        {
          "output_type": "execute_result",
          "data": {
            "text/plain": [
              "str"
            ]
          },
          "metadata": {},
          "execution_count": 27
        }
      ]
    },
    {
      "cell_type": "code",
      "source": [
        "a = 10\n",
        "b=20\n",
        "print(id(a))\n",
        "print(id(b))\n",
        "a is b"
      ],
      "metadata": {
        "colab": {
          "base_uri": "https://localhost:8080/"
        },
        "id": "sGd3l2QKFGGy",
        "outputId": "3abf1fc8-dc70-4398-cbc3-4555a37d94f3"
      },
      "execution_count": 31,
      "outputs": [
        {
          "output_type": "stream",
          "name": "stdout",
          "text": [
            "11642376\n",
            "11642696\n"
          ]
        },
        {
          "output_type": "execute_result",
          "data": {
            "text/plain": [
              "False"
            ]
          },
          "metadata": {},
          "execution_count": 31
        }
      ]
    },
    {
      "cell_type": "markdown",
      "source": [
        "// Bytes -  we can't change the values if you try to change it we will get an error TypeError: '**bytes**' object does not support item assignment . we can use **bytearray** if you want to change the values in between the program"
      ],
      "metadata": {
        "id": "Rm6h0gI2KjUK"
      }
    },
    {
      "cell_type": "code",
      "source": [
        "x =[10,20,30,40,50]\n",
        "b =bytes(x)\n",
        "print(b[0])\n",
        "byteArray = bytearray(x);\n",
        "print(byteArray[0])\n",
        "byteArray[0]=30\n",
        "print(byteArray[0])\n"
      ],
      "metadata": {
        "colab": {
          "base_uri": "https://localhost:8080/"
        },
        "id": "2sP1yjqjI3FY",
        "outputId": "30f50889-a304-4b5d-a6f5-d04ecbdb7d0d"
      },
      "execution_count": 38,
      "outputs": [
        {
          "output_type": "stream",
          "name": "stdout",
          "text": [
            "10\n",
            "10\n",
            "30\n"
          ]
        }
      ]
    },
    {
      "cell_type": "markdown",
      "source": [
        " // List - duplicates are allowed , group of objects in a single entity is called as list . insertion order is preserved as same like java\n",
        ""
      ],
      "metadata": {
        "id": "w2Sbcs8LLtNa"
      }
    },
    {
      "cell_type": "code",
      "source": [
        "list = [10,20,30,40,50]\n",
        "print(list[-1])\n",
        "print(list[1:])\n",
        "print(list[-1])\n",
        "list.append([100,\"srini\"])\n",
        "for i in list:\n",
        "  print(i)\n",
        "list.remove([100,\"srini\"])\n",
        "list=list*2\n",
        "for i in list:\n",
        "  print(i)"
      ],
      "metadata": {
        "colab": {
          "base_uri": "https://localhost:8080/"
        },
        "id": "HsjD4hnQKsCZ",
        "outputId": "f96db957-beca-4626-c350-85f141b307ad"
      },
      "execution_count": 54,
      "outputs": [
        {
          "output_type": "stream",
          "name": "stdout",
          "text": [
            "50\n",
            "[20, 30, 40, 50]\n",
            "50\n",
            "10\n",
            "20\n",
            "30\n",
            "40\n",
            "50\n",
            "[100, 'srini']\n",
            "10\n",
            "20\n",
            "30\n",
            "40\n",
            "50\n",
            "10\n",
            "20\n",
            "30\n",
            "40\n",
            "50\n"
          ]
        }
      ]
    },
    {
      "cell_type": "markdown",
      "source": [
        "// Tuple - immutable datatype . it is as same like list we can't assign or remove or change or we can't do anything just we need to read it"
      ],
      "metadata": {
        "id": "Ba_TGRsNNKhz"
      }
    },
    {
      "cell_type": "code",
      "source": [
        "tupe = (10,20,30,40,50)\n",
        "print(tupe)\n",
        "print(type(tupe))\n",
        "print(tupe[0])\n",
        "tupe.append(70)"
      ],
      "metadata": {
        "colab": {
          "base_uri": "https://localhost:8080/",
          "height": 228
        },
        "id": "JglVmr4rL_Cr",
        "outputId": "edeb9abd-26d1-46d4-9cd2-0fc49b54e541"
      },
      "execution_count": 61,
      "outputs": [
        {
          "output_type": "stream",
          "name": "stdout",
          "text": [
            "(10, 20, 30, 40, 50)\n",
            "<class 'tuple'>\n",
            "10\n"
          ]
        },
        {
          "output_type": "error",
          "ename": "AttributeError",
          "evalue": "'tuple' object has no attribute 'append'",
          "traceback": [
            "\u001b[0;31m---------------------------------------------------------------------------\u001b[0m",
            "\u001b[0;31mAttributeError\u001b[0m                            Traceback (most recent call last)",
            "\u001b[0;32m/tmp/ipython-input-119403995.py\u001b[0m in \u001b[0;36m<cell line: 0>\u001b[0;34m()\u001b[0m\n\u001b[1;32m      3\u001b[0m \u001b[0mprint\u001b[0m\u001b[0;34m(\u001b[0m\u001b[0mtype\u001b[0m\u001b[0;34m(\u001b[0m\u001b[0mtupe\u001b[0m\u001b[0;34m)\u001b[0m\u001b[0;34m)\u001b[0m\u001b[0;34m\u001b[0m\u001b[0;34m\u001b[0m\u001b[0m\n\u001b[1;32m      4\u001b[0m \u001b[0mprint\u001b[0m\u001b[0;34m(\u001b[0m\u001b[0mtupe\u001b[0m\u001b[0;34m[\u001b[0m\u001b[0;36m0\u001b[0m\u001b[0;34m]\u001b[0m\u001b[0;34m)\u001b[0m\u001b[0;34m\u001b[0m\u001b[0;34m\u001b[0m\u001b[0m\n\u001b[0;32m----> 5\u001b[0;31m \u001b[0mtupe\u001b[0m\u001b[0;34m.\u001b[0m\u001b[0mappend\u001b[0m\u001b[0;34m(\u001b[0m\u001b[0;36m70\u001b[0m\u001b[0;34m)\u001b[0m\u001b[0;34m\u001b[0m\u001b[0;34m\u001b[0m\u001b[0m\n\u001b[0m",
            "\u001b[0;31mAttributeError\u001b[0m: 'tuple' object has no attribute 'append'"
          ]
        }
      ]
    },
    {
      "cell_type": "markdown",
      "source": [
        "// Range - also unmodifiable . we can't assign the values for this range\n"
      ],
      "metadata": {
        "id": "hsc6OP54OCT2"
      }
    },
    {
      "cell_type": "code",
      "source": [
        "r =range(10)\n",
        "for i in r :\n",
        "  print(i)\n",
        "print('next range form')\n",
        "r =range(10,20,2)\n",
        "for i in r :\n",
        "  print(i, end=\" \")\n"
      ],
      "metadata": {
        "colab": {
          "base_uri": "https://localhost:8080/"
        },
        "id": "marml4mVNbSN",
        "outputId": "360cf106-ae91-44f3-f6cf-e0e3f821086b"
      },
      "execution_count": 108,
      "outputs": [
        {
          "output_type": "stream",
          "name": "stdout",
          "text": [
            "0\n",
            "1\n",
            "2\n",
            "3\n",
            "4\n",
            "5\n",
            "6\n",
            "7\n",
            "8\n",
            "9\n",
            "next range form\n",
            "10 12 14 16 18 "
          ]
        }
      ]
    },
    {
      "cell_type": "code",
      "source": [
        "set = {10,20,30,40,50}\n",
        "set.add(60)\n",
        "print(set)\n",
        "set.remove(10)\n",
        "fs = frozenset(set);\n",
        "for i in fs:print(i)\n",
        "del set\n",
        "fs.add(80)\n"
      ],
      "metadata": {
        "colab": {
          "base_uri": "https://localhost:8080/",
          "height": 280
        },
        "id": "YNN4clBwPK4M",
        "outputId": "1d708560-37df-4cc6-c573-d118bd1dd64a"
      },
      "execution_count": 110,
      "outputs": [
        {
          "output_type": "stream",
          "name": "stdout",
          "text": [
            "{50, 20, 40, 10, 60, 30}\n",
            "50\n",
            "20\n",
            "40\n",
            "60\n",
            "30\n"
          ]
        },
        {
          "output_type": "error",
          "ename": "AttributeError",
          "evalue": "'frozenset' object has no attribute 'add'",
          "traceback": [
            "\u001b[0;31m---------------------------------------------------------------------------\u001b[0m",
            "\u001b[0;31mAttributeError\u001b[0m                            Traceback (most recent call last)",
            "\u001b[0;32m/tmp/ipython-input-120689227.py\u001b[0m in \u001b[0;36m<cell line: 0>\u001b[0;34m()\u001b[0m\n\u001b[1;32m      6\u001b[0m \u001b[0;32mfor\u001b[0m \u001b[0mi\u001b[0m \u001b[0;32min\u001b[0m \u001b[0mfs\u001b[0m\u001b[0;34m:\u001b[0m\u001b[0mprint\u001b[0m\u001b[0;34m(\u001b[0m\u001b[0mi\u001b[0m\u001b[0;34m)\u001b[0m\u001b[0;34m\u001b[0m\u001b[0;34m\u001b[0m\u001b[0m\n\u001b[1;32m      7\u001b[0m \u001b[0;32mdel\u001b[0m \u001b[0mset\u001b[0m\u001b[0;34m\u001b[0m\u001b[0;34m\u001b[0m\u001b[0m\n\u001b[0;32m----> 8\u001b[0;31m \u001b[0mfs\u001b[0m\u001b[0;34m.\u001b[0m\u001b[0madd\u001b[0m\u001b[0;34m(\u001b[0m\u001b[0;36m80\u001b[0m\u001b[0;34m)\u001b[0m\u001b[0;34m\u001b[0m\u001b[0;34m\u001b[0m\u001b[0m\n\u001b[0m",
            "\u001b[0;31mAttributeError\u001b[0m: 'frozenset' object has no attribute 'add'"
          ]
        }
      ]
    },
    {
      "cell_type": "markdown",
      "source": [
        "None: like null in java\n"
      ],
      "metadata": {
        "id": "iqrFpiOiQheW"
      }
    },
    {
      "cell_type": "code",
      "source": [
        "x= 10\n",
        "y=10\n",
        "print(x**y)"
      ],
      "metadata": {
        "colab": {
          "base_uri": "https://localhost:8080/"
        },
        "id": "A3z3CJt-P1N3",
        "outputId": "20ff1235-6c33-477f-dc2e-b4352f6f1bd6"
      },
      "execution_count": 92,
      "outputs": [
        {
          "output_type": "stream",
          "name": "stdout",
          "text": [
            "10000000000\n"
          ]
        }
      ]
    },
    {
      "cell_type": "markdown",
      "source": [
        "// and / - > / - always return floating value\n",
        "// - it will return based on input we are passing . if we pass any one parameter as float then the result will be floating point"
      ],
      "metadata": {
        "id": "hqQhPK0cRY3F"
      }
    },
    {
      "cell_type": "code",
      "source": [
        "print(x/y)\n",
        "print(x//y)"
      ],
      "metadata": {
        "colab": {
          "base_uri": "https://localhost:8080/"
        },
        "id": "EAPh1fyJRL7h",
        "outputId": "e28bb3d6-c65f-45de-a2fb-e384d5256736"
      },
      "execution_count": 94,
      "outputs": [
        {
          "output_type": "stream",
          "name": "stdout",
          "text": [
            "1.0\n",
            "1\n"
          ]
        }
      ]
    },
    {
      "cell_type": "markdown",
      "source": [
        "in java - arithmetic exception for 10/0 but zeroDivisionErr in py"
      ],
      "metadata": {
        "id": "cmyzgdTMRv8P"
      }
    },
    {
      "cell_type": "markdown",
      "source": [
        "and or not(py) - && , || ,!(java)"
      ],
      "metadata": {
        "id": "eKx0nY2NSFWr"
      }
    },
    {
      "cell_type": "markdown",
      "source": [
        "**Bitwise Operation ** : **&,|,^,~,<<,>>**\n",
        "bit wise will support only int and bool (if we are trying t do it in any other dtype will get an error )"
      ],
      "metadata": {
        "id": "DYxkhDTkShpY"
      }
    },
    {
      "cell_type": "code",
      "source": [
        "x = int(input(\"enter the number\"))\n",
        "b= int(input(\"enter the number\"))\n",
        "c= int(input(\"enter the number\"))\n",
        "max =x if x>b and x>c else b if b>c else c\n",
        "print(max)"
      ],
      "metadata": {
        "colab": {
          "base_uri": "https://localhost:8080/"
        },
        "id": "sfFTiMFMRvsp",
        "outputId": "6f2d1ad7-5076-4f81-c997-2a0586f3b99e"
      },
      "execution_count": 97,
      "outputs": [
        {
          "output_type": "stream",
          "name": "stdout",
          "text": [
            "enter the number1\n",
            "enter the number5\n",
            "enter the number7\n",
            "7\n"
          ]
        }
      ]
    },
    {
      "cell_type": "markdown",
      "source": [
        " we can use is operator\n",
        "\n",
        "is , not  - address comparison\n",
        "== , != -  content comparison\n",
        "\n",
        "instead of contains in java we can use in operator to check whteher that object present in the list,tuple,string etc\n"
      ],
      "metadata": {
        "id": "7tb6-bGEWG49"
      }
    },
    {
      "cell_type": "code",
      "source": [
        "import math as m\n",
        "print(m.sqrt(116))\n",
        "print(m.pi*2)\n",
        "print(m.factorial(5))\n",
        "print(m.pow(2,4))\n",
        "print(2**4)"
      ],
      "metadata": {
        "colab": {
          "base_uri": "https://localhost:8080/"
        },
        "id": "V2f6plfgRnv3",
        "outputId": "f8672cd5-45ab-4281-e974-65746e3ba4d2"
      },
      "execution_count": 101,
      "outputs": [
        {
          "output_type": "stream",
          "name": "stdout",
          "text": [
            "10.770329614269007\n",
            "6.283185307179586\n",
            "120\n",
            "16.0\n",
            "16\n"
          ]
        }
      ]
    },
    {
      "cell_type": "code",
      "source": [
        "from math import sqrt,pi\n",
        "print(pi*(16**2));"
      ],
      "metadata": {
        "colab": {
          "base_uri": "https://localhost:8080/"
        },
        "id": "ZO9t3YX1XYC2",
        "outputId": "c8646b83-4f94-4a0e-de61-99fa9e16abc8"
      },
      "execution_count": 103,
      "outputs": [
        {
          "output_type": "stream",
          "name": "stdout",
          "text": [
            "804.247719318987\n"
          ]
        }
      ]
    },
    {
      "cell_type": "markdown",
      "source": [
        "Q. Write a program to read Employee data from the keyboard and print that data.\n"
      ],
      "metadata": {
        "id": "fEqKU4L_YSuy"
      }
    },
    {
      "cell_type": "code",
      "source": [
        "employee_id = int(input(\"Enter the employee id \"))\n",
        "employee_name = input(\"enter the employee name\")\n",
        "employee_age = int(input(\"enter the employee age \"))\n",
        "print('employee id  : ' , employee_id)\n",
        "print('employee name  : ' , employee_name)\n",
        "print('employee age  : ' , employee_age)"
      ],
      "metadata": {
        "colab": {
          "base_uri": "https://localhost:8080/"
        },
        "id": "R9FmH2N4XfmF",
        "outputId": "938175db-20d9-496d-a991-0dd8a39b839c"
      },
      "execution_count": 104,
      "outputs": [
        {
          "output_type": "stream",
          "name": "stdout",
          "text": [
            "Enter the employee id 123\n",
            "enter the employee nameabc\n",
            "enter the employee age 20\n",
            "employee id  :  123\n",
            "employee name  :  abc\n",
            "employee age  :  20\n"
          ]
        }
      ]
    },
    {
      "cell_type": "markdown",
      "source": [
        "Q. Write a program to read 3 float numbers from the keyboard with , seperator and print\n",
        "their sum."
      ],
      "metadata": {
        "id": "yZNGy5ZXZNu2"
      }
    },
    {
      "cell_type": "code",
      "source": [
        "a,b,c = [ float(x) for x in input(\"enter 3 float values \").split(\",\")]\n",
        "print(a+b+c);"
      ],
      "metadata": {
        "colab": {
          "base_uri": "https://localhost:8080/"
        },
        "id": "XSNp3mklYvdm",
        "outputId": "ea92ac31-d30c-4eb5-fe04-79dfe2ce8649"
      },
      "execution_count": 107,
      "outputs": [
        {
          "output_type": "stream",
          "name": "stdout",
          "text": [
            "enter 3 float values 10,10,10\n",
            "30.0\n"
          ]
        }
      ]
    },
    {
      "cell_type": "code",
      "source": [
        "s = \"Phython is the programming lanugage\"\n",
        "print(s[:-1])\n",
        "print(s[1:8:2])\n",
        "print(s[::])\n",
        "print(s[::-1])\n",
        "for i in s[::-1]:\n",
        "  print(i,end=\" \")\n",
        "print()\n",
        "print('t' in s)"
      ],
      "metadata": {
        "colab": {
          "base_uri": "https://localhost:8080/"
        },
        "id": "jfpmPAj9ZcPn",
        "outputId": "58e160a9-785b-42d8-e761-8229ec61d04a"
      },
      "execution_count": 118,
      "outputs": [
        {
          "output_type": "stream",
          "name": "stdout",
          "text": [
            "Phython is the programming lanugag\n",
            "hto \n",
            "Phython is the programming lanugage\n",
            "egagunal gnimmargorp eht si nohtyhP\n",
            "e g a g u n a l   g n i m m a r g o r p   e h t   s i   n o h t y h P \n",
            "True\n"
          ]
        }
      ]
    },
    {
      "cell_type": "markdown",
      "source": [
        "trim in java  =  strip in python"
      ],
      "metadata": {
        "id": "g7yeRxtWoX3Q"
      }
    },
    {
      "cell_type": "code",
      "source": [
        "str =\"   stringing   \"\n",
        "print(str.strip())\n",
        "print(str.rstrip())\n",
        "print(str.lstrip())"
      ],
      "metadata": {
        "colab": {
          "base_uri": "https://localhost:8080/"
        },
        "id": "IyTlspCVnK_-",
        "outputId": "fe9b92d4-6339-4716-848c-d2e108f9cdaf"
      },
      "execution_count": 131,
      "outputs": [
        {
          "output_type": "stream",
          "name": "stdout",
          "text": [
            "stringing\n",
            "   stringing\n",
            "stringing   \n"
          ]
        }
      ]
    },
    {
      "cell_type": "markdown",
      "source": [
        "index in string java = find & index (find - if data is not available then will get -1  ) (index = if data is not available then will get error )"
      ],
      "metadata": {
        "id": "SAXNX-Cdozeu"
      }
    },
    {
      "cell_type": "code",
      "source": [
        "print(str.rfind('i'))\n",
        "print(str.find('i'))\n",
        "print(str.rindex('i'))\n",
        "print(str.index('i'))\n",
        "print(str.count('i'))\n",
        "str1= str.replace(\" \",\"io\")\n",
        "print(str1)"
      ],
      "metadata": {
        "colab": {
          "base_uri": "https://localhost:8080/"
        },
        "id": "lS6OndaGofXG",
        "outputId": "06bf6fba-9626-464e-be74-9abaf4b1807e"
      },
      "execution_count": 132,
      "outputs": [
        {
          "output_type": "stream",
          "name": "stdout",
          "text": [
            "9\n",
            "6\n",
            "9\n",
            "6\n",
            "2\n",
            "ioioiostringingioioio\n"
          ]
        }
      ]
    },
    {
      "cell_type": "code",
      "source": [
        "from types import new_class\n",
        "new_String = \" I am new learner for python \"\n",
        "s= new_String.strip().split();\n",
        "print(len(s))\n",
        "for i in s:\n",
        "  print('-'.join(i))\n"
      ],
      "metadata": {
        "colab": {
          "base_uri": "https://localhost:8080/"
        },
        "id": "3tZlqO4gpHjg",
        "outputId": "497f040e-0092-4699-b91f-5733a4427c98"
      },
      "execution_count": 136,
      "outputs": [
        {
          "output_type": "stream",
          "name": "stdout",
          "text": [
            "6\n",
            "I\n",
            "a-m\n",
            "n-e-w\n",
            "l-e-a-r-n-e-r\n",
            "f-o-r\n",
            "p-y-t-h-o-n\n"
          ]
        }
      ]
    },
    {
      "cell_type": "code",
      "source": [
        "s= 'MY NAME IS SRINIVASAN '\n",
        "print(s.upper())\n",
        "print(s.lower())\n",
        "print(s.swapcase())\n",
        "print(s.title())\n",
        "print(s.capitalize())"
      ],
      "metadata": {
        "colab": {
          "base_uri": "https://localhost:8080/"
        },
        "id": "QKh44PAsrcx5",
        "outputId": "ad09a5b5-ad8f-4509-f180-8e4d6402529e"
      },
      "execution_count": 140,
      "outputs": [
        {
          "output_type": "stream",
          "name": "stdout",
          "text": [
            "MY NAME IS SRINIVASAN \n",
            "my name is srinivasan \n",
            "my name is srinivasan \n",
            "My Name Is Srinivasan \n",
            "My name is srinivasan \n"
          ]
        }
      ]
    },
    {
      "cell_type": "markdown",
      "source": [
        "format the string"
      ],
      "metadata": {
        "id": "DKUqB76csnta"
      }
    },
    {
      "cell_type": "code",
      "source": [
        "name =\"srini\"\n",
        "salary= \"0\"\n",
        "print(\"{}'s salary is {} \".format(name,salary))"
      ],
      "metadata": {
        "colab": {
          "base_uri": "https://localhost:8080/"
        },
        "id": "Lp1cYCxnsEzz",
        "outputId": "d1db38ce-c770-4f66-cde1-f1ad92cd12b3"
      },
      "execution_count": 159,
      "outputs": [
        {
          "output_type": "stream",
          "name": "stdout",
          "text": [
            "srini's salary is 0 \n"
          ]
        }
      ]
    },
    {
      "cell_type": "markdown",
      "source": [
        "reverse order the string\n"
      ],
      "metadata": {
        "id": "waUWE_u5tSfH"
      }
    },
    {
      "cell_type": "code",
      "source": [
        "strk =\" My NAME IS sRINIVASAN\"\n",
        "strsplit = strk.split();\n",
        "print(len(strsplit))\n",
        "strlength = len(strsplit);\n",
        "strlength= strlength-1;\n",
        "new_list=[]\n",
        "while(strlength>=0):\n",
        "  new_list.append(strsplit[strlength])\n",
        "  strlength =strlength-1\n",
        "new_str_string = \" \".join(new_list)\n",
        "print(new_str_string)\n"
      ],
      "metadata": {
        "colab": {
          "base_uri": "https://localhost:8080/",
          "height": 211
        },
        "id": "fxtxUwSWtXlt",
        "outputId": "5dd8a05e-8697-454c-e60c-8bdffc359c66"
      },
      "execution_count": 161,
      "outputs": [
        {
          "output_type": "error",
          "ename": "TypeError",
          "evalue": "'int' object is not callable",
          "traceback": [
            "\u001b[0;31m---------------------------------------------------------------------------\u001b[0m",
            "\u001b[0;31mTypeError\u001b[0m                                 Traceback (most recent call last)",
            "\u001b[0;32m/tmp/ipython-input-2621762139.py\u001b[0m in \u001b[0;36m<cell line: 0>\u001b[0;34m()\u001b[0m\n\u001b[1;32m      1\u001b[0m \u001b[0mstrk\u001b[0m \u001b[0;34m=\u001b[0m\u001b[0;34m\" My NAME IS sRINIVASAN\"\u001b[0m\u001b[0;34m\u001b[0m\u001b[0;34m\u001b[0m\u001b[0m\n\u001b[1;32m      2\u001b[0m \u001b[0mstrsplit\u001b[0m \u001b[0;34m=\u001b[0m \u001b[0mstrk\u001b[0m\u001b[0;34m.\u001b[0m\u001b[0msplit\u001b[0m\u001b[0;34m(\u001b[0m\u001b[0;34m)\u001b[0m\u001b[0;34m;\u001b[0m\u001b[0;34m\u001b[0m\u001b[0;34m\u001b[0m\u001b[0m\n\u001b[0;32m----> 3\u001b[0;31m \u001b[0mprint\u001b[0m\u001b[0;34m(\u001b[0m\u001b[0mlen\u001b[0m\u001b[0;34m(\u001b[0m\u001b[0mstrsplit\u001b[0m\u001b[0;34m)\u001b[0m\u001b[0;34m)\u001b[0m\u001b[0;34m\u001b[0m\u001b[0;34m\u001b[0m\u001b[0m\n\u001b[0m\u001b[1;32m      4\u001b[0m \u001b[0mstrlength\u001b[0m \u001b[0;34m=\u001b[0m \u001b[0mlen\u001b[0m\u001b[0;34m(\u001b[0m\u001b[0mstrsplit\u001b[0m\u001b[0;34m)\u001b[0m\u001b[0;34m;\u001b[0m\u001b[0;34m\u001b[0m\u001b[0;34m\u001b[0m\u001b[0m\n\u001b[1;32m      5\u001b[0m \u001b[0mstrlength\u001b[0m\u001b[0;34m=\u001b[0m \u001b[0mstrlength\u001b[0m\u001b[0;34m-\u001b[0m\u001b[0;36m1\u001b[0m\u001b[0;34m;\u001b[0m\u001b[0;34m\u001b[0m\u001b[0;34m\u001b[0m\u001b[0m\n",
            "\u001b[0;31mTypeError\u001b[0m: 'int' object is not callable"
          ]
        }
      ]
    },
    {
      "cell_type": "code",
      "source": [],
      "metadata": {
        "id": "PFdkgtUzvZsZ"
      },
      "execution_count": null,
      "outputs": []
    }
  ]
}