{
  "nbformat": 4,
  "nbformat_minor": 0,
  "metadata": {
    "colab": {
      "provenance": [],
      "authorship_tag": "ABX9TyOoPmtJ148mTl2OYb6sAjlW",
      "include_colab_link": true
    },
    "kernelspec": {
      "name": "python3",
      "display_name": "Python 3"
    },
    "language_info": {
      "name": "python"
    }
  },
  "cells": [
    {
      "cell_type": "markdown",
      "metadata": {
        "id": "view-in-github",
        "colab_type": "text"
      },
      "source": [
        "<a href=\"https://colab.research.google.com/github/srinivasan-ES/Python/blob/main/Basic_Phython_programs.ipynb\" target=\"_parent\"><img src=\"https://colab.research.google.com/assets/colab-badge.svg\" alt=\"Open In Colab\"/></a>"
      ]
    },
    {
      "cell_type": "markdown",
      "source": [
        "***Python Program to Print Hello world!***"
      ],
      "metadata": {
        "id": "g_YXe4do9AHz"
      }
    },
    {
      "cell_type": "code",
      "execution_count": 1,
      "metadata": {
        "colab": {
          "base_uri": "https://localhost:8080/"
        },
        "id": "y6NdcVxM82fr",
        "outputId": "a66a864e-0bac-4caf-f624-bebacba4effe"
      },
      "outputs": [
        {
          "output_type": "stream",
          "name": "stdout",
          "text": [
            "Hello World!\n"
          ]
        }
      ],
      "source": [
        "print('Hello World!')"
      ]
    },
    {
      "cell_type": "markdown",
      "source": [
        "***Python Program to Add Two Numbers***"
      ],
      "metadata": {
        "id": "O23CfGob9K1R"
      }
    },
    {
      "cell_type": "code",
      "source": [
        "a=10\n",
        "b=20\n",
        "print(a+b)"
      ],
      "metadata": {
        "colab": {
          "base_uri": "https://localhost:8080/"
        },
        "id": "cXd4yIAA9Gsj",
        "outputId": "486b4376-a45b-4396-b1ad-9c5fa59544fc"
      },
      "execution_count": 2,
      "outputs": [
        {
          "output_type": "stream",
          "name": "stdout",
          "text": [
            "30\n"
          ]
        }
      ]
    },
    {
      "cell_type": "markdown",
      "source": [
        "***Python Program to Find the Square Root***"
      ],
      "metadata": {
        "id": "rFy-213K9WLV"
      }
    },
    {
      "cell_type": "code",
      "source": [
        "import math\n",
        "print(math.sqrt(100))"
      ],
      "metadata": {
        "colab": {
          "base_uri": "https://localhost:8080/"
        },
        "id": "_7863kSU9QzO",
        "outputId": "df312387-5a13-46fa-f1c9-e4999d5d9226"
      },
      "execution_count": 3,
      "outputs": [
        {
          "output_type": "stream",
          "name": "stdout",
          "text": [
            "10.0\n"
          ]
        }
      ]
    },
    {
      "cell_type": "markdown",
      "source": [
        "***Python Program to Calculate the Area of a Triangle***  Area = b*h/2"
      ],
      "metadata": {
        "id": "NEQl85wX9fpu"
      }
    },
    {
      "cell_type": "code",
      "source": [
        "b =10\n",
        "h= 20\n",
        "print((b*h)/2)"
      ],
      "metadata": {
        "colab": {
          "base_uri": "https://localhost:8080/"
        },
        "id": "dfLaRu2X9cXw",
        "outputId": "e8d54b9c-0f8a-47e7-e7ef-1f8ac64379f8"
      },
      "execution_count": 4,
      "outputs": [
        {
          "output_type": "stream",
          "name": "stdout",
          "text": [
            "100.0\n"
          ]
        }
      ]
    },
    {
      "cell_type": "markdown",
      "source": [
        "Python Program to Generate a Random Number***italicised text***\n"
      ],
      "metadata": {
        "id": "C4SKU0EX-Ryt"
      }
    },
    {
      "cell_type": "code",
      "source": [
        "a =10\n",
        "b=20\n",
        "\n",
        "def swap(a,b):\n",
        "  temp =b\n",
        "  b=a\n",
        "  a=temp\n",
        "  print(a,b)\n",
        "\n",
        "swap(a,b)"
      ],
      "metadata": {
        "colab": {
          "base_uri": "https://localhost:8080/"
        },
        "id": "ZEo5IOG_97t4",
        "outputId": "0ea92e92-0724-4283-8193-cb68d5a186ae"
      },
      "execution_count": 7,
      "outputs": [
        {
          "output_type": "stream",
          "name": "stdout",
          "text": [
            "20 10\n"
          ]
        }
      ]
    },
    {
      "cell_type": "markdown",
      "source": [
        "***Python Program to Generate a Random Number***"
      ],
      "metadata": {
        "id": "ckdv-XBi-9yx"
      }
    },
    {
      "cell_type": "code",
      "source": [
        "import random\n",
        "print(random.randint(1,30))\n"
      ],
      "metadata": {
        "colab": {
          "base_uri": "https://localhost:8080/"
        },
        "id": "1GhDBwSr-ikC",
        "outputId": "400b18ed-e8a7-4f5c-a2b0-b4da9ba65f71"
      },
      "execution_count": 13,
      "outputs": [
        {
          "output_type": "stream",
          "name": "stdout",
          "text": [
            "23\n"
          ]
        }
      ]
    },
    {
      "cell_type": "markdown",
      "source": [
        "***Python Program to Convert Kilometers to Miles***"
      ],
      "metadata": {
        "id": "xuIUCZBU_eBg"
      }
    },
    {
      "cell_type": "code",
      "source": [
        "km=1000;\n",
        "miles =km*0.6213711922\n",
        "print(miles)"
      ],
      "metadata": {
        "colab": {
          "base_uri": "https://localhost:8080/"
        },
        "id": "AmtuoAc4_NW2",
        "outputId": "024aac12-7d57-414a-ad07-e212beadceb4"
      },
      "execution_count": 16,
      "outputs": [
        {
          "output_type": "stream",
          "name": "stdout",
          "text": [
            "621.3711922\n"
          ]
        }
      ]
    },
    {
      "cell_type": "markdown",
      "source": [
        "***Python Program to Check if a Number is Positive, Negative or 0***"
      ],
      "metadata": {
        "id": "qjeQjC8-_9kv"
      }
    },
    {
      "cell_type": "code",
      "source": [
        "x=0\n",
        "if x>0: print(\"positive\")\n",
        "elif x==0:\n",
        "  print(\"zero\")\n",
        "else:\n",
        "  print(\"Negative\")"
      ],
      "metadata": {
        "colab": {
          "base_uri": "https://localhost:8080/"
        },
        "id": "eDxfFo6E_tJ2",
        "outputId": "65b8166f-3326-46de-8e1d-a782279945c8"
      },
      "execution_count": 20,
      "outputs": [
        {
          "output_type": "stream",
          "name": "stdout",
          "text": [
            "zero\n"
          ]
        }
      ]
    },
    {
      "cell_type": "markdown",
      "source": [
        "***Python Program to Check if a Number is Odd or Even***"
      ],
      "metadata": {
        "id": "gAws0oOAAtK7"
      }
    },
    {
      "cell_type": "code",
      "source": [
        "x=2\n",
        "if x%2==0:\n",
        "  print(\"even\")\n",
        "elif x%2!=0:\n",
        "  print(\"odd\")"
      ],
      "metadata": {
        "colab": {
          "base_uri": "https://localhost:8080/"
        },
        "id": "hZfk9g7XAkDE",
        "outputId": "b14388ea-d05a-4e42-ffe1-5d5323ed2d4f"
      },
      "execution_count": 21,
      "outputs": [
        {
          "output_type": "stream",
          "name": "stdout",
          "text": [
            "even\n"
          ]
        }
      ]
    },
    {
      "cell_type": "markdown",
      "source": [
        "***Python Program to Check Leap Year***"
      ],
      "metadata": {
        "id": "HyQ-vYW9A9Wz"
      }
    },
    {
      "cell_type": "code",
      "source": [
        "x=1995\n",
        "if x%4==0:\n",
        "  print(\"leap Year\")\n",
        "else:\n",
        "  print(\"Not Leap Year\")"
      ],
      "metadata": {
        "colab": {
          "base_uri": "https://localhost:8080/"
        },
        "id": "BSWykgy2A4YW",
        "outputId": "2031f5cf-9402-4a7d-b38b-f1839c305aed"
      },
      "execution_count": 22,
      "outputs": [
        {
          "output_type": "stream",
          "name": "stdout",
          "text": [
            "Not Leap Year\n"
          ]
        }
      ]
    },
    {
      "cell_type": "markdown",
      "source": [
        "***Python Program to Find the Largest Among Three Numbers***"
      ],
      "metadata": {
        "id": "R-N7kZenBKrj"
      }
    },
    {
      "cell_type": "code",
      "source": [
        "x=8\n",
        "y=10\n",
        "z=25\n",
        "max = x if x>y and x>z else b if y>z else z\n",
        "print(z)"
      ],
      "metadata": {
        "colab": {
          "base_uri": "https://localhost:8080/"
        },
        "id": "yRg_yKApBHrw",
        "outputId": "9e2c5c6c-c4ef-4980-fee8-5550f15b7922"
      },
      "execution_count": 23,
      "outputs": [
        {
          "output_type": "stream",
          "name": "stdout",
          "text": [
            "25\n"
          ]
        }
      ]
    },
    {
      "cell_type": "markdown",
      "source": [
        "***Python Program to Check Prime Number***"
      ],
      "metadata": {
        "id": "nBbkuRezB0qF"
      }
    },
    {
      "cell_type": "code",
      "source": [
        "z =5\n",
        "if z==1 or z%2!=0 :\n",
        "  print(\"prime number\")\n",
        "else:\n",
        "  print(\"Not Prime Number\")"
      ],
      "metadata": {
        "colab": {
          "base_uri": "https://localhost:8080/"
        },
        "id": "5r53T-vIBwrS",
        "outputId": "a15f34c1-9381-4bbe-fb30-fdb1de38a4ee"
      },
      "execution_count": 24,
      "outputs": [
        {
          "output_type": "stream",
          "name": "stdout",
          "text": [
            "prime number\n"
          ]
        }
      ]
    },
    {
      "cell_type": "markdown",
      "source": [
        "***Python Program to Find the Factorial of a Number***"
      ],
      "metadata": {
        "id": "YZImb-3ECMXf"
      }
    },
    {
      "cell_type": "code",
      "source": [
        "def fact(num):\n",
        "  if num==1:\n",
        "    return 1\n",
        "  return num*fact(num-1);\n",
        "print(fact(5))"
      ],
      "metadata": {
        "colab": {
          "base_uri": "https://localhost:8080/"
        },
        "id": "S-GtVEfyCDuQ",
        "outputId": "6c3e887a-4ea5-4c53-9d85-52002ff0e670"
      },
      "execution_count": 1,
      "outputs": [
        {
          "output_type": "stream",
          "name": "stdout",
          "text": [
            "120\n"
          ]
        }
      ]
    },
    {
      "cell_type": "markdown",
      "source": [
        "***Python Program to Display the multiplication Table***"
      ],
      "metadata": {
        "id": "7Ikv151LCyhD"
      }
    },
    {
      "cell_type": "code",
      "source": [
        "for i in range(1,6):\n",
        "  for j in range(1,11):\n",
        "    print((i*j))\n"
      ],
      "metadata": {
        "colab": {
          "base_uri": "https://localhost:8080/"
        },
        "id": "wBerYBLtCkMB",
        "outputId": "78f34176-6c65-4c63-ad27-0a09399c363f"
      },
      "execution_count": 6,
      "outputs": [
        {
          "output_type": "stream",
          "name": "stdout",
          "text": [
            "1\n",
            "2\n",
            "3\n",
            "4\n",
            "5\n",
            "6\n",
            "7\n",
            "8\n",
            "9\n",
            "10\n",
            "2\n",
            "4\n",
            "6\n",
            "8\n",
            "10\n",
            "12\n",
            "14\n",
            "16\n",
            "18\n",
            "20\n",
            "3\n",
            "6\n",
            "9\n",
            "12\n",
            "15\n",
            "18\n",
            "21\n",
            "24\n",
            "27\n",
            "30\n",
            "4\n",
            "8\n",
            "12\n",
            "16\n",
            "20\n",
            "24\n",
            "28\n",
            "32\n",
            "36\n",
            "40\n",
            "5\n",
            "10\n",
            "15\n",
            "20\n",
            "25\n",
            "30\n",
            "35\n",
            "40\n",
            "45\n",
            "50\n"
          ]
        }
      ]
    },
    {
      "cell_type": "markdown",
      "source": [
        "***Python Program to Print the Fibonacci sequence*** 1,1,2,3,5,8,13,"
      ],
      "metadata": {
        "id": "xUBLLyLsEuzh"
      }
    },
    {
      "cell_type": "code",
      "source": [
        "x=1\n",
        "y=1\n",
        "n=5\n",
        "for i in range(1,7):\n",
        "  temp=x\n",
        "  x=x+y\n",
        "  y=temp\n",
        "print(y)"
      ],
      "metadata": {
        "colab": {
          "base_uri": "https://localhost:8080/"
        },
        "id": "bLDmYjw-DJBU",
        "outputId": "093a6a87-fcd9-439f-8136-58e39b8b956b"
      },
      "execution_count": 10,
      "outputs": [
        {
          "output_type": "stream",
          "name": "stdout",
          "text": [
            "13\n"
          ]
        }
      ]
    },
    {
      "cell_type": "markdown",
      "source": [
        "***Python Program to Check Armstrong Number***"
      ],
      "metadata": {
        "id": "NEtACBX5Fmwz"
      }
    },
    {
      "cell_type": "code",
      "source": [
        "print('dsfsfs')\n",
        "x =153"
      ],
      "metadata": {
        "colab": {
          "base_uri": "https://localhost:8080/",
          "height": 193
        },
        "id": "FuOVx1nJFwow",
        "outputId": "9841f5ee-6447-4b72-e927-7391109e3bb8"
      },
      "execution_count": 21,
      "outputs": [
        {
          "output_type": "stream",
          "name": "stdout",
          "text": [
            "dsfsfs\n"
          ]
        },
        {
          "output_type": "error",
          "ename": "TypeError",
          "evalue": "'str' object is not callable",
          "traceback": [
            "\u001b[0;31m---------------------------------------------------------------------------\u001b[0m",
            "\u001b[0;31mTypeError\u001b[0m                                 Traceback (most recent call last)",
            "\u001b[0;32m/tmp/ipython-input-2463706475.py\u001b[0m in \u001b[0;36m<cell line: 0>\u001b[0;34m()\u001b[0m\n\u001b[1;32m      1\u001b[0m \u001b[0mprint\u001b[0m\u001b[0;34m(\u001b[0m\u001b[0;34m'dsfsfs'\u001b[0m\u001b[0;34m)\u001b[0m\u001b[0;34m\u001b[0m\u001b[0;34m\u001b[0m\u001b[0m\n\u001b[1;32m      2\u001b[0m \u001b[0mx\u001b[0m \u001b[0;34m=\u001b[0m\u001b[0;36m153\u001b[0m\u001b[0;34m\u001b[0m\u001b[0;34m\u001b[0m\u001b[0m\n\u001b[0;32m----> 3\u001b[0;31m \u001b[0my\u001b[0m\u001b[0;34m=\u001b[0m\u001b[0mstr\u001b[0m\u001b[0;34m(\u001b[0m\u001b[0mx\u001b[0m\u001b[0;34m)\u001b[0m\u001b[0;34m\u001b[0m\u001b[0;34m\u001b[0m\u001b[0m\n\u001b[0m",
            "\u001b[0;31mTypeError\u001b[0m: 'str' object is not callable"
          ]
        }
      ]
    },
    {
      "cell_type": "code",
      "source": [],
      "metadata": {
        "id": "Q6K7FYVUGOCq"
      },
      "execution_count": null,
      "outputs": []
    }
  ]
}